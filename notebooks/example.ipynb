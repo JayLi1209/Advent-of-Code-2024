{
  "cells": [
    {
      "cell_type": "code",
      "source": [
        "import matplotlib.pyplot as plt\n",
        "import csv\n",
        "import itertools\n",
        "import numpy as np\n",
        "\n",
        "def load_data_from_csv(filename):\n",
        "    \"\"\"Load numerical values from third column of a CSV file\"\"\"\n",
        "    values = []\n",
        "    with open(filename, 'r') as f:\n",
        "        reader = csv.reader(f)\n",
        "        for row in reader:\n",
        "            # Extract third column value and convert to float\n",
        "            if len(row) > 1:\n",
        "              values.append(float(row[2]))\n",
        "    return values"
      ],
      "metadata": {
        "id": "zm_JQ89S8MEm"
      },
      "id": "zm_JQ89S8MEm",
      "execution_count": null,
      "outputs": []
    },
    {
      "cell_type": "code",
      "source": [
        "\n",
        "# Read and parse data from CSV files\n",
        "direct_values = load_data_from_csv('./sample_data/ds1-1_direct.csv')\n",
        "broker_values = load_data_from_csv('./sample_data/ds5-1_direct.csv')\n",
        "\n",
        "def calculate_cdf(values):\n",
        "    \"\"\"Calculate sorted values and CDF\"\"\"\n",
        "    sorted_values = np.sort(values)\n",
        "    cdf = np.arange(1, len(sorted_values)+1) / len(sorted_values)\n",
        "    return sorted_values, cdf\n",
        "\n",
        "  # Calculate CDFs\n",
        "direct_sorted, direct_cdf = calculate_cdf(direct_values)\n",
        "broker_sorted, broker_cdf = calculate_cdf(broker_values)\n",
        "\n",
        "# Create plot\n",
        "plt.figure(figsize=(10, 6))\n",
        "plt.step(direct_sorted, direct_cdf * 100, where='post',\n",
        "         label='Direct', linewidth=2)\n",
        "plt.step(broker_sorted, broker_cdf * 100, where='post',\n",
        "         label='Broker', linewidth=2)\n",
        "\n",
        "# Formatting\n",
        "plt.xlabel('Time (seconds)', fontsize=12)\n",
        "plt.ylabel('Percentage of Data (%)', fontsize=12)\n",
        "plt.title('Cumulative Distribution Function (CDF) Comparison', fontsize=14)\n",
        "plt.xlim(0, max(max(direct_sorted), max(broker_sorted)) * 1.1)\n",
        "plt.ylim(0, 100)\n",
        "plt.grid(True, linestyle='--', alpha=0.7)\n",
        "plt.legend(fontsize=12)\n",
        "plt.tight_layout()\n",
        "\n",
        "plt.show()\n"
      ],
      "metadata": {
        "id": "LTJG0xMc8QaI"
      },
      "id": "LTJG0xMc8QaI",
      "execution_count": null,
      "outputs": []
    },
    {
      "cell_type": "code",
      "source": [
        "# Plot latency and the left as y, x as start time (min-max scaling)\n",
        "\n",
        "import csv\n",
        "import matplotlib.pyplot as plt\n",
        "\n",
        "def read_data(filename):\n",
        "    \"\"\"Read CSV data and return lists of timestamps and latencies.\"\"\"\n",
        "    timestamps = []\n",
        "    latencies = []\n",
        "    with open(filename, \"r\") as file:\n",
        "        reader = csv.reader(file)\n",
        "        for row in reader:\n",
        "            # Each row is expected to be: [pub_id, dissemination, latency, timestamp]\n",
        "            if len(row) < 4:\n",
        "                continue  # Skip incomplete rows\n",
        "            try:\n",
        "                latency = float(row[2])\n",
        "                timestamp = float(row[3])\n",
        "                latencies.append(latency)\n",
        "                timestamps.append(timestamp)\n",
        "            except ValueError:\n",
        "                # Skip rows with invalid numerical values\n",
        "                continue\n",
        "    return timestamps, latencies\n",
        "\n",
        "def scale_timestamps(timestamps):\n",
        "    \"\"\"\n",
        "    Min-max scale the timestamps such that the minimum timestamp becomes 0.\n",
        "    Each scaled timestamp = original timestamp - min(timestamp)\n",
        "    \"\"\"\n",
        "    if not timestamps:\n",
        "        return []\n",
        "    min_time = min(timestamps)\n",
        "    return [t - min_time for t in timestamps]\n",
        "\n",
        "def plot_latency(scaled_timestamps, latencies):\n",
        "    \"\"\"Plot latency (y-axis) vs. scaled start time (x-axis).\"\"\"\n",
        "    plt.figure(figsize=(10, 6))\n",
        "    plt.plot(scaled_timestamps, latencies, marker='o', linestyle='-', color='blue')\n",
        "    plt.xlabel(\"Start Time (scaled)\")\n",
        "    plt.ylabel(\"Latency\")\n",
        "    plt.title(\"Latency vs. Scaled Start Time\")\n",
        "    plt.grid(True)\n",
        "    plt.tight_layout()\n",
        "    plt.show()\n",
        "\n",
        "if __name__ == \"__main__\":\n",
        "    filename = \"output.csv\"\n",
        "    timestamps, latencies = read_data(filename)\n",
        "    if not timestamps:\n",
        "        print(\"No valid data found in the CSV file.\")\n",
        "    else:\n",
        "        scaled_timestamps = scale_timestamps(timestamps)\n",
        "        plot_latency(scaled_timestamps, latencies)\n"
      ],
      "metadata": {
        "id": "uPXr9r058YmY"
      },
      "id": "uPXr9r058YmY",
      "execution_count": null,
      "outputs": []
    }
  ],
  "metadata": {
    "kernelspec": {
      "display_name": "Python 3 (ipykernel)",
      "language": "python",
      "name": "python3"
    },
    "language_info": {
      "codemirror_mode": {
        "name": "ipython",
        "version": 3
      },
      "file_extension": ".py",
      "mimetype": "text/x-python",
      "name": "python",
      "nbconvert_exporter": "python",
      "pygments_lexer": "ipython3",
      "version": "3.9.5"
    },
    "colab": {
      "provenance": []
    }
  },
  "nbformat": 4,
  "nbformat_minor": 5
}